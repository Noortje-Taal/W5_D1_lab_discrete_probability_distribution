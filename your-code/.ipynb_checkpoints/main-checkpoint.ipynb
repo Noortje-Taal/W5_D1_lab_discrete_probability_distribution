{
 "cells": [
  {
   "cell_type": "markdown",
   "metadata": {},
   "source": [
    "# Before your start:\n",
    "\n",
    "    Read the README.md file\n",
    "    Comment as much as you can and use the resources (README.md file)\n",
    "    Happy learning!\n",
    "\n",
    "*Notes:* \n",
    "\n",
    "- Solve the questions with python.\n",
    "\n",
    "- Round the final answer to three decimal places."
   ]
  },
  {
   "cell_type": "markdown",
   "metadata": {},
   "source": [
    "## Bernoulli's Distribution\n",
    "\n",
    "In a basket containing 100 fruits, there are 60 apples and 40 oranges. \n",
    "\n",
    "A fruit is picked randomly from the basket. \n",
    "\n",
    "1. **What is the probability that the fruit is apple?**\n",
    "1. **What is the probability that it is an orange?**"
   ]
  },
  {
   "cell_type": "code",
   "execution_count": 1,
   "metadata": {},
   "outputs": [
    {
     "name": "stdout",
     "output_type": "stream",
     "text": [
      "probability that the fruit is an apple: 0.6\n",
      "probability that the fruit is an orange: 0.4\n"
     ]
    }
   ],
   "source": [
    "'''\n",
    "L.S. Correct!\n",
    "'''\n",
    "\n",
    "\"\"\"\n",
    "Calculate:\n",
    "p = probability that the fruit is an apple \n",
    "q = probability that the fruit is an orange\n",
    "\"\"\"\n",
    "# your code here\n",
    "p = 60/100 \n",
    "q = 1-p\n",
    "\n",
    "print('probability that the fruit is an apple:', p)\n",
    "print('probability that the fruit is an orange:', q) "
   ]
  },
  {
   "cell_type": "markdown",
   "metadata": {},
   "source": [
    "Now we take a random sample of 20 fruits from the basket. After each fruit is taken, a new fruit of the same type is replaced in the basket. Therefore, every time we are taking 1 fruit from 100 fruits. \n",
    "\n",
    "1. **What is the probability that the first 5 fruits are all apples?**\n",
    "\n",
    "1. **What is the probability that the first 5 fruits are all apples and the next 15 fruits are all oranges?**\n",
    "\n",
    "You can include the `p` and `q` probabilities you previous calculated in your solution."
   ]
  },
  {
   "cell_type": "code",
   "execution_count": 2,
   "metadata": {},
   "outputs": [
    {
     "name": "stdout",
     "output_type": "stream",
     "text": [
      "probability that the first 5 fruits are all apples: 0.07775999999999998\n",
      "probability that the first 5 fruits are all apples and the next 15 fruits are all oranges 0.07776107374182398\n"
     ]
    }
   ],
   "source": [
    "# your code here\n",
    "'''\n",
    "L.S. Indeed! \n",
    "'''\n",
    "\n",
    "first_question = p**5\n",
    "second_question = (p**5) + (q**15) \n",
    "\n",
    "print('probability that the first 5 fruits are all apples:', first_question)\n",
    "print('probability that the first 5 fruits are all apples and the next 15 fruits are all oranges', second_question)"
   ]
  },
  {
   "cell_type": "markdown",
   "metadata": {},
   "source": [
    "## Binomial Distribution\n",
    "\n",
    "Similar to the above problem, this time again we randomly sample 20 fruits.\n",
    "\n",
    "**What is the probability that this time the sample contains 5 apples and 15 oranges?**\n",
    "\n",
    "Please note that this time the order of the fruits being picked does not matter."
   ]
  },
  {
   "cell_type": "code",
   "execution_count": 2,
   "metadata": {},
   "outputs": [
    {
     "name": "stdout",
     "output_type": "stream",
     "text": [
      "probability that the sample contains 5 apples and 15 oranges 0.1875\n"
     ]
    }
   ],
   "source": [
    "# your code here \n",
    "'''\n",
    "L.S. Well done!\n",
    "'''\n",
    "\n",
    "n=20 \n",
    "p_apple=5/20\n",
    "p_orange= 1-p_apple\n",
    "\n",
    "p_final = p_apple*p_orange\n",
    "print('probability that the sample contains 5 apples and 15 oranges', p_final) "
   ]
  },
  {
   "cell_type": "markdown",
   "metadata": {},
   "source": [
    "In the lesson we also discussed CDF (cumulative distribution function). In the context of the above problem, **what is the probability that less than 5 fruits picked are apples?**\n",
    "\n",
    "Write the formula and calculate the probability below."
   ]
  },
  {
   "cell_type": "code",
   "execution_count": 3,
   "metadata": {},
   "outputs": [
    {
     "name": "stdout",
     "output_type": "stream",
     "text": [
      "0.6171726543871044\n"
     ]
    }
   ],
   "source": [
    "%matplotlib inline\n",
    "from scipy import stats\n",
    "from scipy.stats import binom\n",
    "\n",
    "# your code here\n",
    "n=20 \n",
    "p=5/20 # kans op apple \n",
    "binomial = binom(n,p) \n",
    "print(binomial.cdf(5)) "
   ]
  },
  {
   "cell_type": "markdown",
   "metadata": {},
   "source": [
    "**Plot the PDF (probability distributiom function) for the above binomial distribution.**\n",
    "\n",
    "*Hint: The range of x in a binomial distribution is from `0` to `n`.*"
   ]
  },
  {
   "cell_type": "code",
   "execution_count": 5,
   "metadata": {},
   "outputs": [
    {
     "data": {
      "image/png": "[encoded data removed]",
      "text/plain": [
       "<Figure size 432x288 with 1 Axes>"
      ]
     },
     "metadata": {
      "needs_background": "light"
     },
     "output_type": "display_data"
    }
   ],
   "source": [
    "import numpy as np\n",
    "import matplotlib.pyplot as plt\n",
    "# your code here\n",
    "# Please label the axes and give a title to the plot \n",
    "n=20 \n",
    "p=5/20 \n",
    "binomial = binom(n,p) \n",
    "\n",
    "'''\n",
    "L.S. Nice plot!s\n",
    "'''\n",
    "\n",
    "\n",
    "\n",
    "x = np.arange(0,n) \n",
    "y = binomial.pmf(x) \n",
    "plt.plot(x, y, 'bo') \n",
    "plt.vlines(x, 0, y, colors='b', lw=5, alpha=0.5); \n",
    "plt.xlabel('apples')\n",
    "plt.ylabel('probability')\n",
    "plt.title('binomial distribution plot: probability of apples\\n');"
   ]
  },
  {
   "cell_type": "markdown",
   "metadata": {},
   "source": [
    "## Poisson Distribution\n",
    "\n",
    "In this challenge you are required to use the Math library in python to solve the problems.\n",
    "\n",
    "In the UEFA champions league tournament, the average number of goals scored in a match is 2.3. \n",
    "\n",
    "**What is the probability that the number of goals scored in a match is 5?**\n",
    "\n",
    "*Hint: Use the exp() in the math library*\n",
    "\n",
    "And to calculate the factorial, you can use the following code:\n",
    "\n",
    "```python\n",
    "import math\n",
    "math.factorial(n) # n is the number you want to find the factorial of\n",
    "```"
   ]
  },
  {
   "cell_type": "code",
   "execution_count": 6,
   "metadata": {},
   "outputs": [
    {
     "data": {
      "text/plain": [
       "0.053775025581946814"
      ]
     },
     "execution_count": 6,
     "metadata": {},
     "output_type": "execute_result"
    }
   ],
   "source": [
    "# your code here \n",
    "%matplotlib inline \n",
    "from scipy import stats\n",
    "from scipy.stats import poisson\n",
    "import math\n",
    "\n",
    "param = 2.3 # average number of goals scored in a match\n",
    "po = stats.poisson(param) \n",
    "po.pmf(5) # de kans that number of goals scored in a match = 5"
   ]
  },
  {
   "cell_type": "markdown",
   "metadata": {},
   "source": [
    "**Draw a poisson probability distribution plot for the number of goals to be between 0 to 10.**"
   ]
  },
  {
   "cell_type": "code",
   "execution_count": 14,
   "metadata": {},
   "outputs": [
    {
     "data": {
      "image/png": "[encoded data removed]",
      "text/plain": [
       "<Figure size 432x288 with 1 Axes>"
      ]
     },
     "metadata": {
      "needs_background": "light"
     },
     "output_type": "display_data"
    }
   ],
   "source": [
    "'''\n",
    "L.S. Well done!\n",
    "'''\n",
    "\n",
    "# your code here\n",
    "# Please label the axes and give a title to the plot \n",
    "param = 2.3 \n",
    "po = stats.poisson(param) \n",
    "\n",
    "x = np.arange(0,10)   \n",
    "y = po.pmf(x)       \n",
    "plt.plot(x, y, 'bo', ms=8, label='poisson pmf') \n",
    "plt.vlines(x, 0, y, colors='b', lw=5, alpha=0.5);\n",
    "plt.title('poisson probability distribution: # goals in a match\\n'); \n",
    "plt.xlabel(\"goals\") \n",
    "plt.ylabel('probability'); "
   ]
  },
  {
   "cell_type": "code",
   "execution_count": null,
   "metadata": {},
   "outputs": [],
   "source": []
  }
 ],
 "metadata": {
  "kernelspec": {
   "display_name": "Python 3",
   "language": "python",
   "name": "python3"
  },
  "language_info": {
   "codemirror_mode": {
    "name": "ipython",
    "version": 3
   },
   "file_extension": ".py",
   "mimetype": "text/x-python",
   "name": "python",
   "nbconvert_exporter": "python",
   "pygments_lexer": "ipython3",
   "version": "3.6.7"
  }
 },
 "nbformat": 4,
 "nbformat_minor": 2
}
